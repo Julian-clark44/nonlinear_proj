{
 "cells": [
  {
   "cell_type": "markdown",
   "id": "510f7cc0",
   "metadata": {},
   "source": [
    "## Import Competition Data"
   ]
  },
  {
   "cell_type": "code",
   "execution_count": 2,
   "id": "2fba29a7",
   "metadata": {
    "execution": {
     "iopub.execute_input": "2024-04-25T02:03:58.235250Z",
     "iopub.status.busy": "2024-04-25T02:03:58.234687Z",
     "iopub.status.idle": "2024-04-25T02:04:25.743342Z",
     "shell.execute_reply": "2024-04-25T02:04:25.741494Z",
     "shell.execute_reply.started": "2024-04-25T02:03:58.235198Z"
    }
   },
   "outputs": [],
   "source": [
    "import numpy as np\n",
    "import pandas as pd\n",
    "\n",
    "property_df  = pd.read_csv(\"data/properties_2017.csv\",low_memory = False)\n",
    "train_df = pd.read_csv(\"data/train_2017.csv\", parse_dates=[\"transactiondate\"])"
   ]
  },
  {
   "cell_type": "code",
   "execution_count": 3,
   "id": "bdf778c2",
   "metadata": {
    "execution": {
     "iopub.execute_input": "2024-04-25T02:04:25.748352Z",
     "iopub.status.busy": "2024-04-25T02:04:25.746639Z",
     "iopub.status.idle": "2024-04-25T02:04:25.805391Z",
     "shell.execute_reply": "2024-04-25T02:04:25.803995Z",
     "shell.execute_reply.started": "2024-04-25T02:04:25.748283Z"
    }
   },
   "outputs": [
    {
     "data": {
      "text/html": [
       "<div>\n",
       "<style scoped>\n",
       "    .dataframe tbody tr th:only-of-type {\n",
       "        vertical-align: middle;\n",
       "    }\n",
       "\n",
       "    .dataframe tbody tr th {\n",
       "        vertical-align: top;\n",
       "    }\n",
       "\n",
       "    .dataframe thead th {\n",
       "        text-align: right;\n",
       "    }\n",
       "</style>\n",
       "<table border=\"1\" class=\"dataframe\">\n",
       "  <thead>\n",
       "    <tr style=\"text-align: right;\">\n",
       "      <th></th>\n",
       "      <th>parcelid</th>\n",
       "      <th>airconditioningtypeid</th>\n",
       "      <th>architecturalstyletypeid</th>\n",
       "      <th>basementsqft</th>\n",
       "      <th>bathroomcnt</th>\n",
       "      <th>bedroomcnt</th>\n",
       "      <th>buildingclasstypeid</th>\n",
       "      <th>buildingqualitytypeid</th>\n",
       "      <th>calculatedbathnbr</th>\n",
       "      <th>decktypeid</th>\n",
       "      <th>...</th>\n",
       "      <th>numberofstories</th>\n",
       "      <th>fireplaceflag</th>\n",
       "      <th>structuretaxvaluedollarcnt</th>\n",
       "      <th>taxvaluedollarcnt</th>\n",
       "      <th>assessmentyear</th>\n",
       "      <th>landtaxvaluedollarcnt</th>\n",
       "      <th>taxamount</th>\n",
       "      <th>taxdelinquencyflag</th>\n",
       "      <th>taxdelinquencyyear</th>\n",
       "      <th>censustractandblock</th>\n",
       "    </tr>\n",
       "  </thead>\n",
       "  <tbody>\n",
       "    <tr>\n",
       "      <th>0</th>\n",
       "      <td>10754147</td>\n",
       "      <td>NaN</td>\n",
       "      <td>NaN</td>\n",
       "      <td>NaN</td>\n",
       "      <td>0.0</td>\n",
       "      <td>0.0</td>\n",
       "      <td>NaN</td>\n",
       "      <td>NaN</td>\n",
       "      <td>NaN</td>\n",
       "      <td>NaN</td>\n",
       "      <td>...</td>\n",
       "      <td>NaN</td>\n",
       "      <td>NaN</td>\n",
       "      <td>NaN</td>\n",
       "      <td>9.0</td>\n",
       "      <td>2016.0</td>\n",
       "      <td>9.0</td>\n",
       "      <td>NaN</td>\n",
       "      <td>NaN</td>\n",
       "      <td>NaN</td>\n",
       "      <td>NaN</td>\n",
       "    </tr>\n",
       "    <tr>\n",
       "      <th>1</th>\n",
       "      <td>10759547</td>\n",
       "      <td>NaN</td>\n",
       "      <td>NaN</td>\n",
       "      <td>NaN</td>\n",
       "      <td>0.0</td>\n",
       "      <td>0.0</td>\n",
       "      <td>NaN</td>\n",
       "      <td>NaN</td>\n",
       "      <td>NaN</td>\n",
       "      <td>NaN</td>\n",
       "      <td>...</td>\n",
       "      <td>NaN</td>\n",
       "      <td>NaN</td>\n",
       "      <td>NaN</td>\n",
       "      <td>27516.0</td>\n",
       "      <td>2015.0</td>\n",
       "      <td>27516.0</td>\n",
       "      <td>NaN</td>\n",
       "      <td>NaN</td>\n",
       "      <td>NaN</td>\n",
       "      <td>NaN</td>\n",
       "    </tr>\n",
       "    <tr>\n",
       "      <th>2</th>\n",
       "      <td>10843547</td>\n",
       "      <td>NaN</td>\n",
       "      <td>NaN</td>\n",
       "      <td>NaN</td>\n",
       "      <td>0.0</td>\n",
       "      <td>0.0</td>\n",
       "      <td>5.0</td>\n",
       "      <td>NaN</td>\n",
       "      <td>NaN</td>\n",
       "      <td>NaN</td>\n",
       "      <td>...</td>\n",
       "      <td>1.0</td>\n",
       "      <td>NaN</td>\n",
       "      <td>660680.0</td>\n",
       "      <td>1434941.0</td>\n",
       "      <td>2016.0</td>\n",
       "      <td>774261.0</td>\n",
       "      <td>20800.37</td>\n",
       "      <td>NaN</td>\n",
       "      <td>NaN</td>\n",
       "      <td>NaN</td>\n",
       "    </tr>\n",
       "    <tr>\n",
       "      <th>3</th>\n",
       "      <td>10859147</td>\n",
       "      <td>NaN</td>\n",
       "      <td>NaN</td>\n",
       "      <td>NaN</td>\n",
       "      <td>0.0</td>\n",
       "      <td>0.0</td>\n",
       "      <td>3.0</td>\n",
       "      <td>6.0</td>\n",
       "      <td>NaN</td>\n",
       "      <td>NaN</td>\n",
       "      <td>...</td>\n",
       "      <td>1.0</td>\n",
       "      <td>NaN</td>\n",
       "      <td>580059.0</td>\n",
       "      <td>1174475.0</td>\n",
       "      <td>2016.0</td>\n",
       "      <td>594416.0</td>\n",
       "      <td>14557.57</td>\n",
       "      <td>NaN</td>\n",
       "      <td>NaN</td>\n",
       "      <td>NaN</td>\n",
       "    </tr>\n",
       "    <tr>\n",
       "      <th>4</th>\n",
       "      <td>10879947</td>\n",
       "      <td>NaN</td>\n",
       "      <td>NaN</td>\n",
       "      <td>NaN</td>\n",
       "      <td>0.0</td>\n",
       "      <td>0.0</td>\n",
       "      <td>4.0</td>\n",
       "      <td>NaN</td>\n",
       "      <td>NaN</td>\n",
       "      <td>NaN</td>\n",
       "      <td>...</td>\n",
       "      <td>1.0</td>\n",
       "      <td>NaN</td>\n",
       "      <td>196751.0</td>\n",
       "      <td>440101.0</td>\n",
       "      <td>2016.0</td>\n",
       "      <td>243350.0</td>\n",
       "      <td>5725.17</td>\n",
       "      <td>NaN</td>\n",
       "      <td>NaN</td>\n",
       "      <td>NaN</td>\n",
       "    </tr>\n",
       "  </tbody>\n",
       "</table>\n",
       "<p>5 rows × 58 columns</p>\n",
       "</div>"
      ],
      "text/plain": [
       "   parcelid  airconditioningtypeid  architecturalstyletypeid  basementsqft  \\\n",
       "0  10754147                    NaN                       NaN           NaN   \n",
       "1  10759547                    NaN                       NaN           NaN   \n",
       "2  10843547                    NaN                       NaN           NaN   \n",
       "3  10859147                    NaN                       NaN           NaN   \n",
       "4  10879947                    NaN                       NaN           NaN   \n",
       "\n",
       "   bathroomcnt  bedroomcnt  buildingclasstypeid  buildingqualitytypeid  \\\n",
       "0          0.0         0.0                  NaN                    NaN   \n",
       "1          0.0         0.0                  NaN                    NaN   \n",
       "2          0.0         0.0                  5.0                    NaN   \n",
       "3          0.0         0.0                  3.0                    6.0   \n",
       "4          0.0         0.0                  4.0                    NaN   \n",
       "\n",
       "   calculatedbathnbr  decktypeid  ...  numberofstories  fireplaceflag  \\\n",
       "0                NaN         NaN  ...              NaN            NaN   \n",
       "1                NaN         NaN  ...              NaN            NaN   \n",
       "2                NaN         NaN  ...              1.0            NaN   \n",
       "3                NaN         NaN  ...              1.0            NaN   \n",
       "4                NaN         NaN  ...              1.0            NaN   \n",
       "\n",
       "   structuretaxvaluedollarcnt  taxvaluedollarcnt  assessmentyear  \\\n",
       "0                         NaN                9.0          2016.0   \n",
       "1                         NaN            27516.0          2015.0   \n",
       "2                    660680.0          1434941.0          2016.0   \n",
       "3                    580059.0          1174475.0          2016.0   \n",
       "4                    196751.0           440101.0          2016.0   \n",
       "\n",
       "   landtaxvaluedollarcnt  taxamount  taxdelinquencyflag  taxdelinquencyyear  \\\n",
       "0                    9.0        NaN                 NaN                 NaN   \n",
       "1                27516.0        NaN                 NaN                 NaN   \n",
       "2               774261.0   20800.37                 NaN                 NaN   \n",
       "3               594416.0   14557.57                 NaN                 NaN   \n",
       "4               243350.0    5725.17                 NaN                 NaN   \n",
       "\n",
       "   censustractandblock  \n",
       "0                  NaN  \n",
       "1                  NaN  \n",
       "2                  NaN  \n",
       "3                  NaN  \n",
       "4                  NaN  \n",
       "\n",
       "[5 rows x 58 columns]"
      ]
     },
     "execution_count": 3,
     "metadata": {},
     "output_type": "execute_result"
    }
   ],
   "source": [
    "property_df.head()"
   ]
  },
  {
   "cell_type": "code",
   "execution_count": 4,
   "id": "c33074c3",
   "metadata": {
    "execution": {
     "iopub.execute_input": "2024-04-25T02:04:25.807714Z",
     "iopub.status.busy": "2024-04-25T02:04:25.807215Z",
     "iopub.status.idle": "2024-04-25T02:04:25.824610Z",
     "shell.execute_reply": "2024-04-25T02:04:25.822751Z",
     "shell.execute_reply.started": "2024-04-25T02:04:25.807671Z"
    }
   },
   "outputs": [
    {
     "data": {
      "text/html": [
       "<div>\n",
       "<style scoped>\n",
       "    .dataframe tbody tr th:only-of-type {\n",
       "        vertical-align: middle;\n",
       "    }\n",
       "\n",
       "    .dataframe tbody tr th {\n",
       "        vertical-align: top;\n",
       "    }\n",
       "\n",
       "    .dataframe thead th {\n",
       "        text-align: right;\n",
       "    }\n",
       "</style>\n",
       "<table border=\"1\" class=\"dataframe\">\n",
       "  <thead>\n",
       "    <tr style=\"text-align: right;\">\n",
       "      <th></th>\n",
       "      <th>parcelid</th>\n",
       "      <th>logerror</th>\n",
       "      <th>transactiondate</th>\n",
       "    </tr>\n",
       "  </thead>\n",
       "  <tbody>\n",
       "    <tr>\n",
       "      <th>0</th>\n",
       "      <td>14297519</td>\n",
       "      <td>0.025595</td>\n",
       "      <td>2017-01-01</td>\n",
       "    </tr>\n",
       "    <tr>\n",
       "      <th>1</th>\n",
       "      <td>17052889</td>\n",
       "      <td>0.055619</td>\n",
       "      <td>2017-01-01</td>\n",
       "    </tr>\n",
       "    <tr>\n",
       "      <th>2</th>\n",
       "      <td>14186244</td>\n",
       "      <td>0.005383</td>\n",
       "      <td>2017-01-01</td>\n",
       "    </tr>\n",
       "    <tr>\n",
       "      <th>3</th>\n",
       "      <td>12177905</td>\n",
       "      <td>-0.103410</td>\n",
       "      <td>2017-01-01</td>\n",
       "    </tr>\n",
       "    <tr>\n",
       "      <th>4</th>\n",
       "      <td>10887214</td>\n",
       "      <td>0.006940</td>\n",
       "      <td>2017-01-01</td>\n",
       "    </tr>\n",
       "  </tbody>\n",
       "</table>\n",
       "</div>"
      ],
      "text/plain": [
       "   parcelid  logerror transactiondate\n",
       "0  14297519  0.025595      2017-01-01\n",
       "1  17052889  0.055619      2017-01-01\n",
       "2  14186244  0.005383      2017-01-01\n",
       "3  12177905 -0.103410      2017-01-01\n",
       "4  10887214  0.006940      2017-01-01"
      ]
     },
     "execution_count": 4,
     "metadata": {},
     "output_type": "execute_result"
    }
   ],
   "source": [
    "train_df.head()"
   ]
  },
  {
   "cell_type": "markdown",
   "id": "ae31af11",
   "metadata": {},
   "source": [
    "## Data Cleaning"
   ]
  },
  {
   "cell_type": "code",
   "execution_count": 5,
   "id": "0781a6be",
   "metadata": {
    "execution": {
     "iopub.execute_input": "2024-04-25T02:04:25.827318Z",
     "iopub.status.busy": "2024-04-25T02:04:25.826854Z",
     "iopub.status.idle": "2024-04-25T02:04:28.205789Z",
     "shell.execute_reply": "2024-04-25T02:04:28.204792Z",
     "shell.execute_reply.started": "2024-04-25T02:04:25.827276Z"
    },
    "scrolled": true
   },
   "outputs": [
    {
     "name": "stdout",
     "output_type": "stream",
     "text": [
      "                                               column_name  percent_missing\n",
      "storytypeid                                    storytypeid        99.945632\n",
      "basementsqft                                  basementsqft        99.945498\n",
      "yardbuildingsqft26                      yardbuildingsqft26        99.911363\n",
      "fireplaceflag                                fireplaceflag        99.827048\n",
      "architecturalstyletypeid          architecturalstyletypeid        99.796966\n",
      "typeconstructiontypeid              typeconstructiontypeid        99.774020\n",
      "finishedsquarefeet13                  finishedsquarefeet13        99.743034\n",
      "buildingclasstypeid                    buildingclasstypeid        99.573532\n",
      "pooltypeid10                                  pooltypeid10        99.430326\n",
      "decktypeid                                      decktypeid        99.417831\n",
      "finishedsquarefeet6                    finishedsquarefeet6        99.280387\n",
      "poolsizesum                                    poolsizesum        99.063452\n",
      "pooltypeid2                                    pooltypeid2        98.892677\n",
      "hashottuborspa                              hashottuborspa        98.323003\n",
      "taxdelinquencyflag                      taxdelinquencyflag        98.106838\n",
      "taxdelinquencyyear                      taxdelinquencyyear        98.106771\n",
      "yardbuildingsqft17                      yardbuildingsqft17        97.266932\n",
      "finishedsquarefeet15                  finishedsquarefeet15        93.629106\n",
      "finishedfloor1squarefeet          finishedfloor1squarefeet        93.174433\n",
      "finishedsquarefeet50                  finishedsquarefeet50        93.174433\n",
      "fireplacecnt                                  fireplacecnt        89.510846\n",
      "threequarterbathnbr                    threequarterbathnbr        89.402546\n",
      "pooltypeid7                                    pooltypeid7        83.053326\n",
      "poolcnt                                            poolcnt        81.923190\n",
      "numberofstories                            numberofstories        77.030950\n",
      "airconditioningtypeid                airconditioningtypeid        72.686676\n",
      "garagetotalsqft                            garagetotalsqft        70.152656\n",
      "garagecarcnt                                  garagecarcnt        70.152656\n",
      "regionidneighborhood                  regionidneighborhood        61.251025\n",
      "heatingorsystemtypeid                heatingorsystemtypeid        37.385992\n",
      "buildingqualitytypeid                buildingqualitytypeid        34.966369\n",
      "unitcnt                                            unitcnt        33.638258\n",
      "propertyzoningdesc                      propertyzoningdesc        33.590389\n",
      "lotsizesquarefeet                        lotsizesquarefeet         9.135215\n",
      "finishedsquarefeet12                  finishedsquarefeet12         8.858016\n",
      "calculatedbathnbr                        calculatedbathnbr         3.924539\n",
      "fullbathcnt                                    fullbathcnt         3.924539\n",
      "censustractandblock                    censustractandblock         2.511878\n",
      "regionidcity                                  regionidcity         2.081189\n",
      "landtaxvaluedollarcnt                landtaxvaluedollarcnt         2.007425\n",
      "yearbuilt                                        yearbuilt         1.602329\n",
      "structuretaxvaluedollarcnt      structuretaxvaluedollarcnt         1.556470\n",
      "calculatedfinishedsquarefeet  calculatedfinishedsquarefeet         1.510677\n",
      "taxvaluedollarcnt                        taxvaluedollarcnt         1.147856\n",
      "taxamount                                        taxamount         0.762156\n",
      "regionidzip                                    regionidzip         0.425899\n",
      "propertycountylandusecode        propertycountylandusecode         0.100462\n",
      "roomcnt                                            roomcnt         0.099457\n",
      "bathroomcnt                                    bathroomcnt         0.099055\n",
      "bedroomcnt                                      bedroomcnt         0.098653\n",
      "assessmentyear                              assessmentyear         0.098251\n",
      "propertylandusetypeid                propertylandusetypeid         0.098217\n",
      "latitude                                          latitude         0.098217\n",
      "rawcensustractandblock              rawcensustractandblock         0.098217\n",
      "fips                                                  fips         0.098217\n",
      "longitude                                        longitude         0.098217\n",
      "regionidcounty                              regionidcounty         0.098217\n"
     ]
    }
   ],
   "source": [
    "# find columns with missing values\n",
    "missing_percent = property_df.isnull().sum() * 100 / len(property_df)\n",
    "missing_values_df = pd.DataFrame({'column_name': property_df.columns, 'percent_missing': missing_percent})\n",
    "print(missing_values_df[missing_values_df.percent_missing > 0].sort_values('percent_missing', ascending=False))"
   ]
  },
  {
   "cell_type": "code",
   "execution_count": 6,
   "id": "0ad53ad6",
   "metadata": {
    "execution": {
     "iopub.execute_input": "2024-04-25T02:04:28.208722Z",
     "iopub.status.busy": "2024-04-25T02:04:28.208332Z",
     "iopub.status.idle": "2024-04-25T02:04:28.216018Z",
     "shell.execute_reply": "2024-04-25T02:04:28.214380Z",
     "shell.execute_reply.started": "2024-04-25T02:04:28.208688Z"
    }
   },
   "outputs": [],
   "source": [
    "# remove features with more than 80% null values\n",
    "threshold = 80\n",
    "null_cols = missing_values_df[missing_values_df.percent_missing > threshold].column_name.tolist()"
   ]
  },
  {
   "cell_type": "code",
   "execution_count": 7,
   "id": "a96f4f68",
   "metadata": {
    "execution": {
     "iopub.execute_input": "2024-04-25T02:04:28.218940Z",
     "iopub.status.busy": "2024-04-25T02:04:28.218381Z",
     "iopub.status.idle": "2024-04-25T02:04:28.513350Z",
     "shell.execute_reply": "2024-04-25T02:04:28.511952Z",
     "shell.execute_reply.started": "2024-04-25T02:04:28.218896Z"
    }
   },
   "outputs": [],
   "source": [
    "property_df = property_df.drop(null_cols, axis=1)"
   ]
  },
  {
   "cell_type": "code",
   "execution_count": 8,
   "id": "ada0f32c",
   "metadata": {
    "execution": {
     "iopub.execute_input": "2024-04-25T02:04:28.515804Z",
     "iopub.status.busy": "2024-04-25T02:04:28.515222Z",
     "iopub.status.idle": "2024-04-25T02:04:28.525179Z",
     "shell.execute_reply": "2024-04-25T02:04:28.523456Z",
     "shell.execute_reply.started": "2024-04-25T02:04:28.515758Z"
    }
   },
   "outputs": [
    {
     "data": {
      "text/plain": [
       "(2985217, 34)"
      ]
     },
     "execution_count": 8,
     "metadata": {},
     "output_type": "execute_result"
    }
   ],
   "source": [
    "property_df.shape"
   ]
  },
  {
   "cell_type": "code",
   "execution_count": 9,
   "id": "16b87554",
   "metadata": {
    "execution": {
     "iopub.execute_input": "2024-04-25T02:04:28.527442Z",
     "iopub.status.busy": "2024-04-25T02:04:28.526959Z",
     "iopub.status.idle": "2024-04-25T02:04:33.145150Z",
     "shell.execute_reply": "2024-04-25T02:04:33.143952Z",
     "shell.execute_reply.started": "2024-04-25T02:04:28.527401Z"
    }
   },
   "outputs": [],
   "source": [
    "# impute values for geographic categorical features - use mode of broader geographic feature by grouping\n",
    "# using mode across the feature itself would provide geographical values that don't make sense \n",
    "# eg: find most common zip code in the county to impute missing zip\n",
    "\n",
    "def impute_geographical_feature(df, target_feature, group_feature):\n",
    "    # mode of target feature grouped by the group geographic feature\n",
    "    mode_per_group = df.groupby(group_feature)[target_feature].apply(lambda x: x.mode().iloc[0] if not x.mode().empty else np.nan)\n",
    "    \n",
    "    # impute missing values \n",
    "    missing_mask = df[target_feature].isnull() & df[group_feature].notnull()\n",
    "    df.loc[missing_mask, target_feature] = df.loc[missing_mask, group_feature].map(mode_per_group)\n",
    "    \n",
    "    # drop rows where group feature is missing or if target feature still missing after imputation\n",
    "    df.dropna(subset=[target_feature, group_feature], inplace=True)\n",
    "\n",
    "geographical_features = ['fips', 'regionidneighborhood', 'censustractandblock', 'rawcensustractandblock',\\\n",
    "                         'regionidzip', 'regionidcity', 'regionidcounty']\n",
    "for feature in geographical_features:\n",
    "    group_feature = 'regionidcounty' if feature != 'regionidcounty' or feature != 'fips' else 'regionidcity'\n",
    "    impute_geographical_feature(property_df, feature, group_feature)"
   ]
  },
  {
   "cell_type": "code",
   "execution_count": 10,
   "id": "c3cac005",
   "metadata": {
    "execution": {
     "iopub.execute_input": "2024-04-25T02:04:33.147534Z",
     "iopub.status.busy": "2024-04-25T02:04:33.147056Z",
     "iopub.status.idle": "2024-04-25T02:04:33.156498Z",
     "shell.execute_reply": "2024-04-25T02:04:33.154929Z",
     "shell.execute_reply.started": "2024-04-25T02:04:33.147494Z"
    }
   },
   "outputs": [
    {
     "data": {
      "text/plain": [
       "(2982285, 34)"
      ]
     },
     "execution_count": 10,
     "metadata": {},
     "output_type": "execute_result"
    }
   ],
   "source": [
    "property_df.shape"
   ]
  },
  {
   "cell_type": "code",
   "execution_count": 11,
   "id": "6439c005",
   "metadata": {
    "execution": {
     "iopub.execute_input": "2024-04-25T02:04:33.158298Z",
     "iopub.status.busy": "2024-04-25T02:04:33.157966Z",
     "iopub.status.idle": "2024-04-25T02:04:45.290548Z",
     "shell.execute_reply": "2024-04-25T02:04:45.288968Z",
     "shell.execute_reply.started": "2024-04-25T02:04:33.158271Z"
    }
   },
   "outputs": [],
   "source": [
    "# impute categorical feature values\n",
    "from sklearn.impute import SimpleImputer\n",
    "\n",
    "cat_imputer = SimpleImputer(strategy='most_frequent') # use mode here as well\n",
    "\n",
    "categorical_features = ['airconditioningtypeid', 'buildingqualitytypeid', 'heatingorsystemtypeid',\n",
    "                        'propertycountylandusecode', 'propertylandusetypeid', 'propertyzoningdesc',\n",
    "                        'regionidcity', 'regionidcounty', 'regionidzip', 'unitcnt',\n",
    "                        'censustractandblock', 'rawcensustractandblock']\n",
    "\n",
    "# impute missing values for each feature\n",
    "for col in categorical_features:\n",
    "    if col in property_df.columns:\n",
    "        property_df[[col]] = cat_imputer.fit_transform(property_df[[col]])"
   ]
  },
  {
   "cell_type": "code",
   "execution_count": 12,
   "id": "f25b8da9",
   "metadata": {
    "execution": {
     "iopub.execute_input": "2024-04-25T02:04:45.294194Z",
     "iopub.status.busy": "2024-04-25T02:04:45.292845Z",
     "iopub.status.idle": "2024-04-25T02:05:14.704606Z",
     "shell.execute_reply": "2024-04-25T02:05:14.703291Z",
     "shell.execute_reply.started": "2024-04-25T02:04:45.294132Z"
    }
   },
   "outputs": [],
   "source": [
    "# now do the same for the remaining numerical features\n",
    "\n",
    "num_imputer = SimpleImputer(strategy='median') \n",
    "\n",
    "numerical_features = ['basementsqft', 'bathroomcnt', 'bedroomcnt', 'buildingqualitytypeid', \n",
    "                      'calculatedbathnbr', 'finishedfloor1squarefeet', 'calculatedfinishedsquarefeet', \n",
    "                      'finishedsquarefeet12', 'finishedsquarefeet50', 'garagecarcnt', 'garagetotalsqft', \n",
    "                      'latitude', 'longitude', 'lotsizesquarefeet', 'poolcnt', 'poolsizesum', 'roomcnt', \n",
    "                      'threequarterbathnbr', 'unitcnt', 'yearbuilt', 'numberofstories',\n",
    "                      'structuretaxvaluedollarcnt', 'taxvaluedollarcnt', 'assessmentyear', \n",
    "                      'landtaxvaluedollarcnt', 'taxamount', 'fullbathcnt']\n",
    "\n",
    "for col in numerical_features:\n",
    "    if col in property_df.columns:\n",
    "        property_df[[col]] = num_imputer.fit_transform(property_df[[col]])"
   ]
  },
  {
   "cell_type": "code",
   "execution_count": 13,
   "id": "8b890bf6",
   "metadata": {
    "execution": {
     "iopub.execute_input": "2024-04-25T02:05:14.707253Z",
     "iopub.status.busy": "2024-04-25T02:05:14.706712Z",
     "iopub.status.idle": "2024-04-25T02:05:15.757227Z",
     "shell.execute_reply": "2024-04-25T02:05:15.755871Z",
     "shell.execute_reply.started": "2024-04-25T02:05:14.707213Z"
    }
   },
   "outputs": [
    {
     "name": "stdout",
     "output_type": "stream",
     "text": [
      "parcelid                        0\n",
      "airconditioningtypeid           0\n",
      "bathroomcnt                     0\n",
      "bedroomcnt                      0\n",
      "buildingqualitytypeid           0\n",
      "calculatedbathnbr               0\n",
      "calculatedfinishedsquarefeet    0\n",
      "finishedsquarefeet12            0\n",
      "fips                            0\n",
      "fullbathcnt                     0\n",
      "garagecarcnt                    0\n",
      "garagetotalsqft                 0\n",
      "heatingorsystemtypeid           0\n",
      "latitude                        0\n",
      "longitude                       0\n",
      "lotsizesquarefeet               0\n",
      "propertycountylandusecode       0\n",
      "propertylandusetypeid           0\n",
      "propertyzoningdesc              0\n",
      "rawcensustractandblock          0\n",
      "regionidcity                    0\n",
      "regionidcounty                  0\n",
      "regionidneighborhood            0\n",
      "regionidzip                     0\n",
      "roomcnt                         0\n",
      "unitcnt                         0\n",
      "yearbuilt                       0\n",
      "numberofstories                 0\n",
      "structuretaxvaluedollarcnt      0\n",
      "taxvaluedollarcnt               0\n",
      "assessmentyear                  0\n",
      "landtaxvaluedollarcnt           0\n",
      "taxamount                       0\n",
      "censustractandblock             0\n",
      "dtype: int64\n"
     ]
    }
   ],
   "source": [
    "# confirm all missing values filled\n",
    "print(property_df.isnull().sum())"
   ]
  },
  {
   "cell_type": "markdown",
   "id": "ff6af683",
   "metadata": {},
   "source": [
    "### Combining Training Table"
   ]
  },
  {
   "cell_type": "code",
   "execution_count": 14,
   "id": "f2db4372",
   "metadata": {
    "execution": {
     "iopub.execute_input": "2024-04-25T02:05:15.759364Z",
     "iopub.status.busy": "2024-04-25T02:05:15.758999Z",
     "iopub.status.idle": "2024-04-25T02:05:19.029274Z",
     "shell.execute_reply": "2024-04-25T02:05:19.027665Z",
     "shell.execute_reply.started": "2024-04-25T02:05:15.759335Z"
    },
    "scrolled": true
   },
   "outputs": [
    {
     "data": {
      "text/html": [
       "<div>\n",
       "<style scoped>\n",
       "    .dataframe tbody tr th:only-of-type {\n",
       "        vertical-align: middle;\n",
       "    }\n",
       "\n",
       "    .dataframe tbody tr th {\n",
       "        vertical-align: top;\n",
       "    }\n",
       "\n",
       "    .dataframe thead th {\n",
       "        text-align: right;\n",
       "    }\n",
       "</style>\n",
       "<table border=\"1\" class=\"dataframe\">\n",
       "  <thead>\n",
       "    <tr style=\"text-align: right;\">\n",
       "      <th></th>\n",
       "      <th>parcelid</th>\n",
       "      <th>logerror</th>\n",
       "      <th>transactiondate</th>\n",
       "      <th>airconditioningtypeid</th>\n",
       "      <th>bathroomcnt</th>\n",
       "      <th>bedroomcnt</th>\n",
       "      <th>buildingqualitytypeid</th>\n",
       "      <th>calculatedbathnbr</th>\n",
       "      <th>calculatedfinishedsquarefeet</th>\n",
       "      <th>finishedsquarefeet12</th>\n",
       "      <th>...</th>\n",
       "      <th>roomcnt</th>\n",
       "      <th>unitcnt</th>\n",
       "      <th>yearbuilt</th>\n",
       "      <th>numberofstories</th>\n",
       "      <th>structuretaxvaluedollarcnt</th>\n",
       "      <th>taxvaluedollarcnt</th>\n",
       "      <th>assessmentyear</th>\n",
       "      <th>landtaxvaluedollarcnt</th>\n",
       "      <th>taxamount</th>\n",
       "      <th>censustractandblock</th>\n",
       "    </tr>\n",
       "  </thead>\n",
       "  <tbody>\n",
       "    <tr>\n",
       "      <th>0</th>\n",
       "      <td>14297519</td>\n",
       "      <td>0.025595</td>\n",
       "      <td>2017-01-01</td>\n",
       "      <td>1.0</td>\n",
       "      <td>3.5</td>\n",
       "      <td>4.0</td>\n",
       "      <td>6.0</td>\n",
       "      <td>3.5</td>\n",
       "      <td>3100.0</td>\n",
       "      <td>3100.0</td>\n",
       "      <td>...</td>\n",
       "      <td>0.0</td>\n",
       "      <td>1.0</td>\n",
       "      <td>1998.0</td>\n",
       "      <td>1.0</td>\n",
       "      <td>485713.0</td>\n",
       "      <td>1023282.0</td>\n",
       "      <td>2016.0</td>\n",
       "      <td>537569.0</td>\n",
       "      <td>11013.72</td>\n",
       "      <td>6.059063e+13</td>\n",
       "    </tr>\n",
       "    <tr>\n",
       "      <th>1</th>\n",
       "      <td>17052889</td>\n",
       "      <td>0.055619</td>\n",
       "      <td>2017-01-01</td>\n",
       "      <td>1.0</td>\n",
       "      <td>1.0</td>\n",
       "      <td>2.0</td>\n",
       "      <td>6.0</td>\n",
       "      <td>1.0</td>\n",
       "      <td>1465.0</td>\n",
       "      <td>1465.0</td>\n",
       "      <td>...</td>\n",
       "      <td>5.0</td>\n",
       "      <td>1.0</td>\n",
       "      <td>1967.0</td>\n",
       "      <td>1.0</td>\n",
       "      <td>88000.0</td>\n",
       "      <td>464000.0</td>\n",
       "      <td>2016.0</td>\n",
       "      <td>376000.0</td>\n",
       "      <td>5672.48</td>\n",
       "      <td>6.111001e+13</td>\n",
       "    </tr>\n",
       "    <tr>\n",
       "      <th>2</th>\n",
       "      <td>14186244</td>\n",
       "      <td>0.005383</td>\n",
       "      <td>2017-01-01</td>\n",
       "      <td>1.0</td>\n",
       "      <td>2.0</td>\n",
       "      <td>3.0</td>\n",
       "      <td>6.0</td>\n",
       "      <td>2.0</td>\n",
       "      <td>1243.0</td>\n",
       "      <td>1243.0</td>\n",
       "      <td>...</td>\n",
       "      <td>6.0</td>\n",
       "      <td>1.0</td>\n",
       "      <td>1962.0</td>\n",
       "      <td>1.0</td>\n",
       "      <td>85289.0</td>\n",
       "      <td>564778.0</td>\n",
       "      <td>2016.0</td>\n",
       "      <td>479489.0</td>\n",
       "      <td>6488.30</td>\n",
       "      <td>6.059022e+13</td>\n",
       "    </tr>\n",
       "    <tr>\n",
       "      <th>3</th>\n",
       "      <td>12177905</td>\n",
       "      <td>-0.103410</td>\n",
       "      <td>2017-01-01</td>\n",
       "      <td>1.0</td>\n",
       "      <td>3.0</td>\n",
       "      <td>4.0</td>\n",
       "      <td>8.0</td>\n",
       "      <td>3.0</td>\n",
       "      <td>2376.0</td>\n",
       "      <td>2376.0</td>\n",
       "      <td>...</td>\n",
       "      <td>0.0</td>\n",
       "      <td>1.0</td>\n",
       "      <td>1970.0</td>\n",
       "      <td>1.0</td>\n",
       "      <td>108918.0</td>\n",
       "      <td>145143.0</td>\n",
       "      <td>2016.0</td>\n",
       "      <td>36225.0</td>\n",
       "      <td>1777.51</td>\n",
       "      <td>6.037300e+13</td>\n",
       "    </tr>\n",
       "    <tr>\n",
       "      <th>4</th>\n",
       "      <td>10887214</td>\n",
       "      <td>0.006940</td>\n",
       "      <td>2017-01-01</td>\n",
       "      <td>1.0</td>\n",
       "      <td>3.0</td>\n",
       "      <td>3.0</td>\n",
       "      <td>8.0</td>\n",
       "      <td>3.0</td>\n",
       "      <td>1312.0</td>\n",
       "      <td>1312.0</td>\n",
       "      <td>...</td>\n",
       "      <td>0.0</td>\n",
       "      <td>1.0</td>\n",
       "      <td>1964.0</td>\n",
       "      <td>1.0</td>\n",
       "      <td>73681.0</td>\n",
       "      <td>119407.0</td>\n",
       "      <td>2016.0</td>\n",
       "      <td>45726.0</td>\n",
       "      <td>1533.89</td>\n",
       "      <td>6.037124e+13</td>\n",
       "    </tr>\n",
       "  </tbody>\n",
       "</table>\n",
       "<p>5 rows × 36 columns</p>\n",
       "</div>"
      ],
      "text/plain": [
       "   parcelid  logerror transactiondate  airconditioningtypeid  bathroomcnt  \\\n",
       "0  14297519  0.025595      2017-01-01                    1.0          3.5   \n",
       "1  17052889  0.055619      2017-01-01                    1.0          1.0   \n",
       "2  14186244  0.005383      2017-01-01                    1.0          2.0   \n",
       "3  12177905 -0.103410      2017-01-01                    1.0          3.0   \n",
       "4  10887214  0.006940      2017-01-01                    1.0          3.0   \n",
       "\n",
       "   bedroomcnt  buildingqualitytypeid  calculatedbathnbr  \\\n",
       "0         4.0                    6.0                3.5   \n",
       "1         2.0                    6.0                1.0   \n",
       "2         3.0                    6.0                2.0   \n",
       "3         4.0                    8.0                3.0   \n",
       "4         3.0                    8.0                3.0   \n",
       "\n",
       "   calculatedfinishedsquarefeet  finishedsquarefeet12  ...  roomcnt  unitcnt  \\\n",
       "0                        3100.0                3100.0  ...      0.0      1.0   \n",
       "1                        1465.0                1465.0  ...      5.0      1.0   \n",
       "2                        1243.0                1243.0  ...      6.0      1.0   \n",
       "3                        2376.0                2376.0  ...      0.0      1.0   \n",
       "4                        1312.0                1312.0  ...      0.0      1.0   \n",
       "\n",
       "   yearbuilt  numberofstories  structuretaxvaluedollarcnt  taxvaluedollarcnt  \\\n",
       "0     1998.0              1.0                    485713.0          1023282.0   \n",
       "1     1967.0              1.0                     88000.0           464000.0   \n",
       "2     1962.0              1.0                     85289.0           564778.0   \n",
       "3     1970.0              1.0                    108918.0           145143.0   \n",
       "4     1964.0              1.0                     73681.0           119407.0   \n",
       "\n",
       "   assessmentyear  landtaxvaluedollarcnt taxamount  censustractandblock  \n",
       "0          2016.0               537569.0  11013.72         6.059063e+13  \n",
       "1          2016.0               376000.0   5672.48         6.111001e+13  \n",
       "2          2016.0               479489.0   6488.30         6.059022e+13  \n",
       "3          2016.0                36225.0   1777.51         6.037300e+13  \n",
       "4          2016.0                45726.0   1533.89         6.037124e+13  \n",
       "\n",
       "[5 rows x 36 columns]"
      ]
     },
     "execution_count": 14,
     "metadata": {},
     "output_type": "execute_result"
    }
   ],
   "source": [
    "# pulling property data into training data\n",
    "combined_df = train_df.merge(property_df, how='left', on='parcelid')\n",
    "combined_df.head()"
   ]
  },
  {
   "cell_type": "code",
   "execution_count": 15,
   "id": "612dabd6",
   "metadata": {
    "execution": {
     "iopub.execute_input": "2024-04-25T02:05:19.033590Z",
     "iopub.status.busy": "2024-04-25T02:05:19.033150Z",
     "iopub.status.idle": "2024-04-25T02:05:19.092636Z",
     "shell.execute_reply": "2024-04-25T02:05:19.091505Z",
     "shell.execute_reply.started": "2024-04-25T02:05:19.033562Z"
    }
   },
   "outputs": [],
   "source": [
    "# remove properties that were removed during data cleaning in the new combined DataFrame\n",
    "final_property_features = [col for col in property_df.columns if col != 'parcelid']\n",
    "# remove rows where all property features missing:\n",
    "missing_property_data = combined_df[final_property_features].isnull().all(axis=1) \n",
    "combined_df = combined_df[~missing_property_data]"
   ]
  },
  {
   "cell_type": "markdown",
   "id": "85ff9487",
   "metadata": {},
   "source": [
    "## Dimensionality Reduction"
   ]
  },
  {
   "cell_type": "code",
   "execution_count": 16,
   "id": "15dfc174",
   "metadata": {
    "execution": {
     "iopub.execute_input": "2024-04-25T02:05:19.094862Z",
     "iopub.status.busy": "2024-04-25T02:05:19.094393Z",
     "iopub.status.idle": "2024-04-25T02:05:19.152643Z",
     "shell.execute_reply": "2024-04-25T02:05:19.151831Z",
     "shell.execute_reply.started": "2024-04-25T02:05:19.094820Z"
    }
   },
   "outputs": [],
   "source": [
    "# convert datetime columns to numerical format (to enable scaling)\n",
    "for col in combined_df.select_dtypes(include=['datetime']):\n",
    "    combined_df[f'{col}_year'] = combined_df[col].dt.year\n",
    "    combined_df[f'{col}_month'] = combined_df[col].dt.month\n",
    "    combined_df[f'{col}_day'] = combined_df[col].dt.day\n",
    "    combined_df[f'{col}_weekday'] = combined_df[col].dt.weekday\n",
    "    combined_df.drop(columns=[col], inplace=True)"
   ]
  },
  {
   "cell_type": "code",
   "execution_count": 17,
   "id": "9a3e9890-9aad-4020-b476-02a552e077ea",
   "metadata": {
    "execution": {
     "iopub.execute_input": "2024-04-25T02:05:19.154261Z",
     "iopub.status.busy": "2024-04-25T02:05:19.153940Z",
     "iopub.status.idle": "2024-04-25T02:05:19.184652Z",
     "shell.execute_reply": "2024-04-25T02:05:19.182845Z",
     "shell.execute_reply.started": "2024-04-25T02:05:19.154234Z"
    }
   },
   "outputs": [
    {
     "data": {
      "text/html": [
       "<div>\n",
       "<style scoped>\n",
       "    .dataframe tbody tr th:only-of-type {\n",
       "        vertical-align: middle;\n",
       "    }\n",
       "\n",
       "    .dataframe tbody tr th {\n",
       "        vertical-align: top;\n",
       "    }\n",
       "\n",
       "    .dataframe thead th {\n",
       "        text-align: right;\n",
       "    }\n",
       "</style>\n",
       "<table border=\"1\" class=\"dataframe\">\n",
       "  <thead>\n",
       "    <tr style=\"text-align: right;\">\n",
       "      <th></th>\n",
       "      <th>parcelid</th>\n",
       "      <th>logerror</th>\n",
       "      <th>airconditioningtypeid</th>\n",
       "      <th>bathroomcnt</th>\n",
       "      <th>bedroomcnt</th>\n",
       "      <th>buildingqualitytypeid</th>\n",
       "      <th>calculatedbathnbr</th>\n",
       "      <th>calculatedfinishedsquarefeet</th>\n",
       "      <th>finishedsquarefeet12</th>\n",
       "      <th>fips</th>\n",
       "      <th>...</th>\n",
       "      <th>structuretaxvaluedollarcnt</th>\n",
       "      <th>taxvaluedollarcnt</th>\n",
       "      <th>assessmentyear</th>\n",
       "      <th>landtaxvaluedollarcnt</th>\n",
       "      <th>taxamount</th>\n",
       "      <th>censustractandblock</th>\n",
       "      <th>transactiondate_year</th>\n",
       "      <th>transactiondate_month</th>\n",
       "      <th>transactiondate_day</th>\n",
       "      <th>transactiondate_weekday</th>\n",
       "    </tr>\n",
       "  </thead>\n",
       "  <tbody>\n",
       "    <tr>\n",
       "      <th>0</th>\n",
       "      <td>14297519</td>\n",
       "      <td>0.025595</td>\n",
       "      <td>1.0</td>\n",
       "      <td>3.5</td>\n",
       "      <td>4.0</td>\n",
       "      <td>6.0</td>\n",
       "      <td>3.5</td>\n",
       "      <td>3100.0</td>\n",
       "      <td>3100.0</td>\n",
       "      <td>6059.0</td>\n",
       "      <td>...</td>\n",
       "      <td>485713.0</td>\n",
       "      <td>1023282.0</td>\n",
       "      <td>2016.0</td>\n",
       "      <td>537569.0</td>\n",
       "      <td>11013.72</td>\n",
       "      <td>6.059063e+13</td>\n",
       "      <td>2017</td>\n",
       "      <td>1</td>\n",
       "      <td>1</td>\n",
       "      <td>6</td>\n",
       "    </tr>\n",
       "    <tr>\n",
       "      <th>1</th>\n",
       "      <td>17052889</td>\n",
       "      <td>0.055619</td>\n",
       "      <td>1.0</td>\n",
       "      <td>1.0</td>\n",
       "      <td>2.0</td>\n",
       "      <td>6.0</td>\n",
       "      <td>1.0</td>\n",
       "      <td>1465.0</td>\n",
       "      <td>1465.0</td>\n",
       "      <td>6111.0</td>\n",
       "      <td>...</td>\n",
       "      <td>88000.0</td>\n",
       "      <td>464000.0</td>\n",
       "      <td>2016.0</td>\n",
       "      <td>376000.0</td>\n",
       "      <td>5672.48</td>\n",
       "      <td>6.111001e+13</td>\n",
       "      <td>2017</td>\n",
       "      <td>1</td>\n",
       "      <td>1</td>\n",
       "      <td>6</td>\n",
       "    </tr>\n",
       "    <tr>\n",
       "      <th>2</th>\n",
       "      <td>14186244</td>\n",
       "      <td>0.005383</td>\n",
       "      <td>1.0</td>\n",
       "      <td>2.0</td>\n",
       "      <td>3.0</td>\n",
       "      <td>6.0</td>\n",
       "      <td>2.0</td>\n",
       "      <td>1243.0</td>\n",
       "      <td>1243.0</td>\n",
       "      <td>6059.0</td>\n",
       "      <td>...</td>\n",
       "      <td>85289.0</td>\n",
       "      <td>564778.0</td>\n",
       "      <td>2016.0</td>\n",
       "      <td>479489.0</td>\n",
       "      <td>6488.30</td>\n",
       "      <td>6.059022e+13</td>\n",
       "      <td>2017</td>\n",
       "      <td>1</td>\n",
       "      <td>1</td>\n",
       "      <td>6</td>\n",
       "    </tr>\n",
       "    <tr>\n",
       "      <th>3</th>\n",
       "      <td>12177905</td>\n",
       "      <td>-0.103410</td>\n",
       "      <td>1.0</td>\n",
       "      <td>3.0</td>\n",
       "      <td>4.0</td>\n",
       "      <td>8.0</td>\n",
       "      <td>3.0</td>\n",
       "      <td>2376.0</td>\n",
       "      <td>2376.0</td>\n",
       "      <td>6037.0</td>\n",
       "      <td>...</td>\n",
       "      <td>108918.0</td>\n",
       "      <td>145143.0</td>\n",
       "      <td>2016.0</td>\n",
       "      <td>36225.0</td>\n",
       "      <td>1777.51</td>\n",
       "      <td>6.037300e+13</td>\n",
       "      <td>2017</td>\n",
       "      <td>1</td>\n",
       "      <td>1</td>\n",
       "      <td>6</td>\n",
       "    </tr>\n",
       "    <tr>\n",
       "      <th>4</th>\n",
       "      <td>10887214</td>\n",
       "      <td>0.006940</td>\n",
       "      <td>1.0</td>\n",
       "      <td>3.0</td>\n",
       "      <td>3.0</td>\n",
       "      <td>8.0</td>\n",
       "      <td>3.0</td>\n",
       "      <td>1312.0</td>\n",
       "      <td>1312.0</td>\n",
       "      <td>6037.0</td>\n",
       "      <td>...</td>\n",
       "      <td>73681.0</td>\n",
       "      <td>119407.0</td>\n",
       "      <td>2016.0</td>\n",
       "      <td>45726.0</td>\n",
       "      <td>1533.89</td>\n",
       "      <td>6.037124e+13</td>\n",
       "      <td>2017</td>\n",
       "      <td>1</td>\n",
       "      <td>1</td>\n",
       "      <td>6</td>\n",
       "    </tr>\n",
       "  </tbody>\n",
       "</table>\n",
       "<p>5 rows × 39 columns</p>\n",
       "</div>"
      ],
      "text/plain": [
       "   parcelid  logerror  airconditioningtypeid  bathroomcnt  bedroomcnt  \\\n",
       "0  14297519  0.025595                    1.0          3.5         4.0   \n",
       "1  17052889  0.055619                    1.0          1.0         2.0   \n",
       "2  14186244  0.005383                    1.0          2.0         3.0   \n",
       "3  12177905 -0.103410                    1.0          3.0         4.0   \n",
       "4  10887214  0.006940                    1.0          3.0         3.0   \n",
       "\n",
       "   buildingqualitytypeid  calculatedbathnbr  calculatedfinishedsquarefeet  \\\n",
       "0                    6.0                3.5                        3100.0   \n",
       "1                    6.0                1.0                        1465.0   \n",
       "2                    6.0                2.0                        1243.0   \n",
       "3                    8.0                3.0                        2376.0   \n",
       "4                    8.0                3.0                        1312.0   \n",
       "\n",
       "   finishedsquarefeet12    fips  ...  structuretaxvaluedollarcnt  \\\n",
       "0                3100.0  6059.0  ...                    485713.0   \n",
       "1                1465.0  6111.0  ...                     88000.0   \n",
       "2                1243.0  6059.0  ...                     85289.0   \n",
       "3                2376.0  6037.0  ...                    108918.0   \n",
       "4                1312.0  6037.0  ...                     73681.0   \n",
       "\n",
       "   taxvaluedollarcnt  assessmentyear  landtaxvaluedollarcnt  taxamount  \\\n",
       "0          1023282.0          2016.0               537569.0   11013.72   \n",
       "1           464000.0          2016.0               376000.0    5672.48   \n",
       "2           564778.0          2016.0               479489.0    6488.30   \n",
       "3           145143.0          2016.0                36225.0    1777.51   \n",
       "4           119407.0          2016.0                45726.0    1533.89   \n",
       "\n",
       "   censustractandblock  transactiondate_year transactiondate_month  \\\n",
       "0         6.059063e+13                  2017                     1   \n",
       "1         6.111001e+13                  2017                     1   \n",
       "2         6.059022e+13                  2017                     1   \n",
       "3         6.037300e+13                  2017                     1   \n",
       "4         6.037124e+13                  2017                     1   \n",
       "\n",
       "   transactiondate_day transactiondate_weekday  \n",
       "0                    1                       6  \n",
       "1                    1                       6  \n",
       "2                    1                       6  \n",
       "3                    1                       6  \n",
       "4                    1                       6  \n",
       "\n",
       "[5 rows x 39 columns]"
      ]
     },
     "execution_count": 17,
     "metadata": {},
     "output_type": "execute_result"
    }
   ],
   "source": [
    "combined_df.head()"
   ]
  },
  {
   "cell_type": "code",
   "execution_count": 18,
   "id": "d70392c4",
   "metadata": {
    "execution": {
     "iopub.execute_input": "2024-04-25T02:05:19.187535Z",
     "iopub.status.busy": "2024-04-25T02:05:19.187015Z",
     "iopub.status.idle": "2024-04-25T02:05:19.259313Z",
     "shell.execute_reply": "2024-04-25T02:05:19.257574Z",
     "shell.execute_reply.started": "2024-04-25T02:05:19.187494Z"
    }
   },
   "outputs": [],
   "source": [
    "# convert categorical to numerical for scaling as well\n",
    "# using label encoding since one-hot encoding creates 2k+ features, which makes dim. red. infeasible \n",
    "categorical_cols = combined_df.select_dtypes(include=['object']).columns\n",
    "\n",
    "from sklearn.preprocessing import LabelEncoder\n",
    "\n",
    "label_encoders = {}\n",
    "for col in categorical_cols:\n",
    "    le = LabelEncoder()\n",
    "    combined_df[col] = le.fit_transform(combined_df[col])\n",
    "    label_encoders[col] = le  # store to invert encoding later if needed\n",
    "    \n",
    "# NOTE: this can create an implied ordinal ordering - can change this if affecting linear model performance"
   ]
  },
  {
   "cell_type": "code",
   "execution_count": 19,
   "id": "d0486c99",
   "metadata": {
    "execution": {
     "iopub.execute_input": "2024-04-25T02:05:19.262337Z",
     "iopub.status.busy": "2024-04-25T02:05:19.261780Z",
     "iopub.status.idle": "2024-04-25T02:05:19.283475Z",
     "shell.execute_reply": "2024-04-25T02:05:19.281126Z",
     "shell.execute_reply.started": "2024-04-25T02:05:19.262296Z"
    }
   },
   "outputs": [
    {
     "name": "stdout",
     "output_type": "stream",
     "text": [
      "(77579, 38)\n"
     ]
    }
   ],
   "source": [
    "# define levels: increasing number of components\n",
    "# Baseline: 100% (no dimensionality reduction)\n",
    "# Level 1: 10%\n",
    "# Level 2: 50%\n",
    "# Level 3: 75%\n",
    "\n",
    "features_df = combined_df.drop(columns=['logerror'])\n",
    "target = combined_df['logerror']\n",
    "\n",
    "components_10 = int(features_df.shape[1] * 0.1)\n",
    "components_50 = int(features_df.shape[1] * 0.5)\n",
    "components_75 = int(features_df.shape[1] * 0.75)\n",
    "\n",
    "print(features_df.shape)"
   ]
  },
  {
   "cell_type": "code",
   "execution_count": 20,
   "id": "5b9d0090",
   "metadata": {
    "execution": {
     "iopub.execute_input": "2024-04-25T02:05:19.286826Z",
     "iopub.status.busy": "2024-04-25T02:05:19.286229Z",
     "iopub.status.idle": "2024-04-25T02:05:19.297111Z",
     "shell.execute_reply": "2024-04-25T02:05:19.295356Z",
     "shell.execute_reply.started": "2024-04-25T02:05:19.286781Z"
    }
   },
   "outputs": [
    {
     "data": {
      "text/plain": [
       "Index(['parcelid', 'logerror', 'airconditioningtypeid', 'bathroomcnt',\n",
       "       'bedroomcnt', 'buildingqualitytypeid', 'calculatedbathnbr',\n",
       "       'calculatedfinishedsquarefeet', 'finishedsquarefeet12', 'fips',\n",
       "       'fullbathcnt', 'garagecarcnt', 'garagetotalsqft',\n",
       "       'heatingorsystemtypeid', 'latitude', 'longitude', 'lotsizesquarefeet',\n",
       "       'propertycountylandusecode', 'propertylandusetypeid',\n",
       "       'propertyzoningdesc', 'rawcensustractandblock', 'regionidcity',\n",
       "       'regionidcounty', 'regionidneighborhood', 'regionidzip', 'roomcnt',\n",
       "       'unitcnt', 'yearbuilt', 'numberofstories', 'structuretaxvaluedollarcnt',\n",
       "       'taxvaluedollarcnt', 'assessmentyear', 'landtaxvaluedollarcnt',\n",
       "       'taxamount', 'censustractandblock', 'transactiondate_year',\n",
       "       'transactiondate_month', 'transactiondate_day',\n",
       "       'transactiondate_weekday'],\n",
       "      dtype='object')"
      ]
     },
     "execution_count": 20,
     "metadata": {},
     "output_type": "execute_result"
    }
   ],
   "source": [
    "combined_df.columns"
   ]
  },
  {
   "cell_type": "code",
   "execution_count": 21,
   "id": "b30e5e78",
   "metadata": {
    "execution": {
     "iopub.execute_input": "2024-04-25T02:05:19.300312Z",
     "iopub.status.busy": "2024-04-25T02:05:19.299756Z",
     "iopub.status.idle": "2024-04-25T02:05:19.391378Z",
     "shell.execute_reply": "2024-04-25T02:05:19.389675Z",
     "shell.execute_reply.started": "2024-04-25T02:05:19.300271Z"
    },
    "scrolled": true
   },
   "outputs": [],
   "source": [
    "from sklearn.preprocessing import StandardScaler\n",
    "\n",
    "scaler = StandardScaler()\n",
    "features_scaled = scaler.fit_transform(features_df)"
   ]
  },
  {
   "cell_type": "code",
   "execution_count": 22,
   "id": "ae2c38d3",
   "metadata": {
    "execution": {
     "iopub.execute_input": "2024-04-25T02:05:19.393577Z",
     "iopub.status.busy": "2024-04-25T02:05:19.393116Z",
     "iopub.status.idle": "2024-04-25T02:05:19.406120Z",
     "shell.execute_reply": "2024-04-25T02:05:19.403759Z",
     "shell.execute_reply.started": "2024-04-25T02:05:19.393540Z"
    }
   },
   "outputs": [],
   "source": [
    "# key metrics: run time, and data size (memory of dataframe)\n",
    "# functions to measure these\n",
    "import time\n",
    "def measure_runtime(func):\n",
    "    start_time = time.time()\n",
    "    result = func()\n",
    "    end_time = time.time()\n",
    "    runtime = end_time - start_time\n",
    "    return result, runtime\n",
    "\n",
    "def dataframe_memory(df):\n",
    "    return df.memory_usage(deep=True).sum()"
   ]
  },
  {
   "cell_type": "markdown",
   "id": "05392411-7569-4603-ae2c-3e77eba2be86",
   "metadata": {
    "jp-MarkdownHeadingCollapsed": true
   },
   "source": [
    "### PCA"
   ]
  },
  {
   "cell_type": "code",
   "execution_count": 31,
   "id": "63a43646",
   "metadata": {
    "execution": {
     "iopub.execute_input": "2024-04-25T01:47:19.803765Z",
     "iopub.status.busy": "2024-04-25T01:47:19.803236Z",
     "iopub.status.idle": "2024-04-25T01:47:19.812293Z",
     "shell.execute_reply": "2024-04-25T01:47:19.810648Z",
     "shell.execute_reply.started": "2024-04-25T01:47:19.803724Z"
    }
   },
   "outputs": [],
   "source": [
    "pca_results = {} # store new reduced datasets and metrics"
   ]
  },
  {
   "cell_type": "code",
   "execution_count": 37,
   "id": "8a831cb6",
   "metadata": {
    "execution": {
     "iopub.execute_input": "2024-04-25T01:49:52.789820Z",
     "iopub.status.busy": "2024-04-25T01:49:52.789335Z",
     "iopub.status.idle": "2024-04-25T01:49:52.798753Z",
     "shell.execute_reply": "2024-04-25T01:49:52.797096Z",
     "shell.execute_reply.started": "2024-04-25T01:49:52.789783Z"
    }
   },
   "outputs": [],
   "source": [
    "from sklearn.decomposition import PCA\n",
    "def apply_pca(n_components):\n",
    "    pca = PCA(n_components=n_components)\n",
    "    pca_result, runtime = measure_runtime(lambda: pca.fit_transform(features_scaled))\n",
    "    reduced_df = pd.DataFrame(pca_result, columns=[f'PC{i+1}' for i in range(n_components)])\n",
    "    reduced_df['logerror'] = target\n",
    "    mem_usage = dataframe_memory(reduced_df)\n",
    "    return reduced_df, runtime, mem_usage"
   ]
  },
  {
   "cell_type": "code",
   "execution_count": 38,
   "id": "641f5f6f",
   "metadata": {
    "execution": {
     "iopub.execute_input": "2024-04-25T01:49:53.652966Z",
     "iopub.status.busy": "2024-04-25T01:49:53.652179Z",
     "iopub.status.idle": "2024-04-25T01:49:53.659262Z",
     "shell.execute_reply": "2024-04-25T01:49:53.658346Z",
     "shell.execute_reply.started": "2024-04-25T01:49:53.652923Z"
    }
   },
   "outputs": [],
   "source": [
    "# Baseline - no reduction\n",
    "baseline_runtime_start = time.time()\n",
    "baseline_mem_usage = dataframe_memory(combined_df)\n",
    "baseline_runtime = time.time() - baseline_runtime_start\n",
    "pca_results['Baseline'] = (combined_df, baseline_runtime, baseline_mem_usage)"
   ]
  },
  {
   "cell_type": "code",
   "execution_count": 39,
   "id": "01e5845d",
   "metadata": {
    "execution": {
     "iopub.execute_input": "2024-04-25T01:49:55.030139Z",
     "iopub.status.busy": "2024-04-25T01:49:55.029634Z",
     "iopub.status.idle": "2024-04-25T01:50:00.031402Z",
     "shell.execute_reply": "2024-04-25T01:50:00.029922Z",
     "shell.execute_reply.started": "2024-04-25T01:49:55.030093Z"
    }
   },
   "outputs": [
    {
     "name": "stdout",
     "output_type": "stream",
     "text": [
      "(77579, 3)\n",
      "(77579, 19)\n",
      "(77579, 28)\n"
     ]
    }
   ],
   "source": [
    "# PCA for 10%, 50%, 75%\n",
    "for components, label in zip([components_10, components_50, components_75], ['10%', '50%', '75%']):\n",
    "    reduced_df, runtime, mem_usage = apply_pca(components)\n",
    "    pca_results[label] = (reduced_df, runtime, mem_usage)"
   ]
  },
  {
   "cell_type": "code",
   "execution_count": 36,
   "id": "e6248cb8",
   "metadata": {
    "execution": {
     "iopub.execute_input": "2024-04-25T01:47:47.545103Z",
     "iopub.status.busy": "2024-04-25T01:47:47.544367Z",
     "iopub.status.idle": "2024-04-25T01:47:47.592225Z",
     "shell.execute_reply": "2024-04-25T01:47:47.590695Z",
     "shell.execute_reply.started": "2024-04-25T01:47:47.545073Z"
    },
    "scrolled": true
   },
   "outputs": [
    {
     "name": "stdout",
     "output_type": "stream",
     "text": [
      "Results for Baseline:\n",
      "Runtime: 0.0048 seconds\n",
      "Data Size: 24825280 bytes\n",
      "DataFrame head:\n",
      "   parcelid  logerror  airconditioningtypeid  bathroomcnt  bedroomcnt  \\\n",
      "0  14297519  0.025595                    1.0          3.5         4.0   \n",
      "1  17052889  0.055619                    1.0          1.0         2.0   \n",
      "2  14186244  0.005383                    1.0          2.0         3.0   \n",
      "3  12177905 -0.103410                    1.0          3.0         4.0   \n",
      "4  10887214  0.006940                    1.0          3.0         3.0   \n",
      "\n",
      "   buildingqualitytypeid  calculatedbathnbr  calculatedfinishedsquarefeet  \\\n",
      "0                    6.0                3.5                        3100.0   \n",
      "1                    6.0                1.0                        1465.0   \n",
      "2                    6.0                2.0                        1243.0   \n",
      "3                    8.0                3.0                        2376.0   \n",
      "4                    8.0                3.0                        1312.0   \n",
      "\n",
      "   finishedsquarefeet12    fips  ...  structuretaxvaluedollarcnt  \\\n",
      "0                3100.0  6059.0  ...                    485713.0   \n",
      "1                1465.0  6111.0  ...                     88000.0   \n",
      "2                1243.0  6059.0  ...                     85289.0   \n",
      "3                2376.0  6037.0  ...                    108918.0   \n",
      "4                1312.0  6037.0  ...                     73681.0   \n",
      "\n",
      "   taxvaluedollarcnt  assessmentyear  landtaxvaluedollarcnt  taxamount  \\\n",
      "0          1023282.0          2016.0               537569.0   11013.72   \n",
      "1           464000.0          2016.0               376000.0    5672.48   \n",
      "2           564778.0          2016.0               479489.0    6488.30   \n",
      "3           145143.0          2016.0                36225.0    1777.51   \n",
      "4           119407.0          2016.0                45726.0    1533.89   \n",
      "\n",
      "   censustractandblock  transactiondate_year  transactiondate_month  \\\n",
      "0         6.059063e+13                  2017                      1   \n",
      "1         6.111001e+13                  2017                      1   \n",
      "2         6.059022e+13                  2017                      1   \n",
      "3         6.037300e+13                  2017                      1   \n",
      "4         6.037124e+13                  2017                      1   \n",
      "\n",
      "   transactiondate_day  transactiondate_weekday  \n",
      "0                    1                        6  \n",
      "1                    1                        6  \n",
      "2                    1                        6  \n",
      "3                    1                        6  \n",
      "4                    1                        6  \n",
      "\n",
      "[5 rows x 39 columns]\n",
      "\n",
      "Results for 10%:\n",
      "Runtime: 0.9936 seconds\n",
      "Data Size: 2482656 bytes\n",
      "DataFrame head:\n",
      "        PC1       PC2       PC3  logerror\n",
      "0  3.481746  1.522393  1.005248  0.025595\n",
      "1 -2.117822  4.055242 -2.182740  0.055619\n",
      "2 -0.557953  2.221937  0.790566  0.005383\n",
      "3  0.807771 -1.905577 -1.319030 -0.103410\n",
      "4 -0.116428 -1.853525 -1.393048  0.006940\n",
      "\n",
      "Results for 50%:\n",
      "Runtime: 1.4138 seconds\n",
      "Data Size: 12412768 bytes\n",
      "DataFrame head:\n",
      "        PC1       PC2       PC3       PC4       PC5       PC6       PC7  \\\n",
      "0  3.481746  1.522387  1.006142  0.397615 -1.139535 -0.240815 -0.289876   \n",
      "1 -2.117822  4.055232 -2.181202 -2.313256  3.700666  2.638690 -0.323355   \n",
      "2 -0.557953  2.221929  0.791662  0.453271 -0.075887 -0.474495 -0.266847   \n",
      "3  0.807771 -1.905581 -1.320520  0.494842 -0.974713  0.824025 -1.156998   \n",
      "4 -0.116428 -1.853539 -1.389973 -1.075218 -1.040961 -0.291072 -0.338983   \n",
      "\n",
      "        PC8       PC9      PC10      PC11      PC12      PC13      PC14  \\\n",
      "0 -0.757677 -0.592852 -0.994689  1.126352 -0.087113  1.683365 -3.013156   \n",
      "1  0.799557 -1.121372 -1.270795  0.302052 -0.235638  2.000344 -1.511177   \n",
      "2  0.349117 -0.785876 -1.035233  0.827080  0.045302  1.643874 -2.642290   \n",
      "3 -4.244994  1.102925 -2.279660  3.395347 -3.474679  4.051223  0.797783   \n",
      "4  0.651239  0.276491 -1.428943  1.226846 -0.376719  1.842082 -2.257821   \n",
      "\n",
      "       PC15      PC16      PC17      PC18      PC19  logerror  \n",
      "0 -0.450162 -0.157806 -1.088154 -0.063518 -0.077960  0.025595  \n",
      "1 -1.569201 -0.707935 -0.166860 -0.943339  0.640987  0.055619  \n",
      "2 -0.918808 -0.437982 -0.870724 -0.398490 -0.421418  0.005383  \n",
      "3 -0.827367  0.361280 -2.219085 -0.384755  0.235905 -0.103410  \n",
      "4 -0.872603 -1.677382  1.453762 -0.386698  0.106847  0.006940  \n",
      "\n",
      "Results for 75%:\n",
      "Runtime: 1.6837 seconds\n",
      "Data Size: 17998456 bytes\n",
      "DataFrame head:\n",
      "        PC1       PC2       PC3       PC4       PC5       PC6       PC7  \\\n",
      "0  3.481746  1.522387  1.006142  0.397615 -1.139535 -0.240815 -0.289876   \n",
      "1 -2.117822  4.055232 -2.181202 -2.313256  3.700666  2.638690 -0.323355   \n",
      "2 -0.557953  2.221929  0.791662  0.453271 -0.075887 -0.474495 -0.266847   \n",
      "3  0.807771 -1.905581 -1.320520  0.494842 -0.974713  0.824025 -1.156998   \n",
      "4 -0.116428 -1.853539 -1.389973 -1.075218 -1.040961 -0.291072 -0.338984   \n",
      "\n",
      "        PC8       PC9      PC10  ...      PC20      PC21      PC22      PC23  \\\n",
      "0 -0.757676 -0.592851 -0.994690  ... -0.611121 -0.350802  0.080020  0.370588   \n",
      "1  0.799558 -1.121372 -1.270796  ... -1.206660 -0.026633  0.496724  0.743852   \n",
      "2  0.349118 -0.785876 -1.035233  ... -0.040299  0.906602  0.501780 -0.375022   \n",
      "3 -4.244993  1.102926 -2.279660  ...  0.402960  0.094690  0.794946  0.399024   \n",
      "4  0.651240  0.276491 -1.428943  ...  0.143568  0.789620  0.070915 -0.488099   \n",
      "\n",
      "       PC24      PC25      PC26      PC27      PC28  logerror  \n",
      "0 -0.126181 -0.610968 -0.563696  0.493162 -0.830338  0.025595  \n",
      "1  0.015663  0.256104  0.291803  0.502548  0.368973  0.055619  \n",
      "2  0.593114 -0.272971  0.695324 -0.595861  0.379110  0.005383  \n",
      "3  0.404774  0.356722  0.369981  0.076302 -0.104106 -0.103410  \n",
      "4 -0.119723 -0.144134  0.229680 -0.292046 -0.242644  0.006940  \n",
      "\n",
      "[5 rows x 29 columns]\n",
      "\n"
     ]
    }
   ],
   "source": [
    "# Output Results\n",
    "for label, (df, runtime, mem_usage) in pca_results.items():\n",
    "    print(f\"Results for {label}:\")\n",
    "    print(f\"Runtime: {runtime:.4f} seconds\")\n",
    "    print(f\"Data Size: {mem_usage} bytes\")\n",
    "    print(f\"DataFrame head:\\n{df.head()}\\n\")"
   ]
  },
  {
   "cell_type": "markdown",
   "id": "a6c7c181",
   "metadata": {
    "jp-MarkdownHeadingCollapsed": true
   },
   "source": [
    "### UMAP"
   ]
  },
  {
   "cell_type": "code",
   "execution_count": null,
   "id": "bfef6d6b",
   "metadata": {
    "scrolled": true
   },
   "outputs": [],
   "source": [
    "umap_results = {}"
   ]
  },
  {
   "cell_type": "code",
   "execution_count": null,
   "id": "73c37d86",
   "metadata": {},
   "outputs": [],
   "source": [
    "# pip3 install umap-learn\n",
    "import umap.umap_ as umap\n",
    "\n",
    "def find_ideal_n_neighbors(components_list, features_scaled):\n",
    "    avg_silhouette_scores = {}\n",
    "    for n_neighbors in range(5, 21, 5):\n",
    "        silhouette_scores = []\n",
    "        for components in components_list:\n",
    "            umap_model = umap.UMAP(n_neighbors=n_neighbors, n_components=components)\n",
    "            umap_result = umap_model.fit_transform(features_scaled)\n",
    "            silhouette_score = silhouette_score_umap(umap_result)\n",
    "            silhouette_scores.append(silhouette_score)\n",
    "        avg_silhouette_scores[n_neighbors] = np.mean(silhouette_scores)\n",
    "    ideal_n_neighbors = max(avg_silhouette_scores, key=avg_silhouette_scores.get)\n",
    "    return ideal_n_neighbors"
   ]
  },
  {
   "cell_type": "code",
   "execution_count": null,
   "id": "910e6246",
   "metadata": {},
   "outputs": [],
   "source": [
    "from sklearn.metrics import silhouette_samples\n",
    "def silhouette_score_umap(embedding):\n",
    "    silhouette_vals = silhouette_samples(embedding, target)\n",
    "    return np.mean(silhouette_vals)"
   ]
  },
  {
   "cell_type": "code",
   "execution_count": null,
   "id": "4aa3f8ca",
   "metadata": {},
   "outputs": [],
   "source": [
    "def apply_umap(n_components, n_neighbors):\n",
    "    umap_model = umap.UMAP(n_components=n_components, n_neighbors=n_neighbors)\n",
    "    umap_result, runtime = measure_runtime(lambda: umap_model.fit_transform(features_scaled))\n",
    "    reduced_df = pd.DataFrame(umap_result, columns=[f'UMAP_{i+1}' for i in range(n_components)])\n",
    "    reduced_df['logerror'] = target\n",
    "    mem_usage = reduced_df.memory_usage(deep=True).sum()\n",
    "    return reduced_df, runtime, mem_usage"
   ]
  },
  {
   "cell_type": "code",
   "execution_count": null,
   "id": "64aee19a",
   "metadata": {},
   "outputs": [],
   "source": [
    "# ideal_n_neighbors = find_ideal_n_neighbors([components_10, components_50, components_75], features_scaled)\n",
    "# print(ideal_n_neighbors)\n",
    "# Found that ideal_n_neighbors = 10\n",
    "ideal_n_neighbors = 10"
   ]
  },
  {
   "cell_type": "code",
   "execution_count": null,
   "id": "4d6ef48e",
   "metadata": {},
   "outputs": [],
   "source": [
    "# UMAP for 10%, 50%, 75%\n",
    "for components, label in zip([components_10, components_50, components_75], ['10%', '50%', '75%']):\n",
    "    reduced_df, runtime, mem_usage = apply_umap(components, ideal_n_neighbors)\n",
    "    umap_results[label] = (reduced_df, runtime, mem_usage)"
   ]
  },
  {
   "cell_type": "code",
   "execution_count": null,
   "id": "7b89498a",
   "metadata": {},
   "outputs": [],
   "source": [
    "# Output Results\n",
    "for label, (df, runtime, mem_usage) in umap_results.items():\n",
    "    print(f\"Results for {label}:\")\n",
    "    print(f\"Runtime: {runtime:.4f} seconds\")\n",
    "    print(f\"Data Size: {mem_usage} bytes\")\n",
    "    print(f\"DataFrame head:\\n{df.head()}\\n\")"
   ]
  },
  {
   "cell_type": "markdown",
   "id": "cc2a745b",
   "metadata": {
    "jp-MarkdownHeadingCollapsed": true
   },
   "source": [
    "### Autoencoder"
   ]
  },
  {
   "cell_type": "code",
   "execution_count": null,
   "id": "48c920b0",
   "metadata": {},
   "outputs": [],
   "source": [
    "autoencoder_results = {}"
   ]
  },
  {
   "cell_type": "code",
   "execution_count": null,
   "id": "eca9f6a1",
   "metadata": {},
   "outputs": [],
   "source": [
    "import tensorflow as tf\n",
    "def autoencoder_dimension_reduction(dataset, n_dimensions):\n",
    "    input_dim = dataset.shape[1]\n",
    "    encoding_dim = n_dimensions\n",
    "\n",
    "    input_data = tf.keras.layers.Input(shape=(input_dim,))\n",
    "    encoded = tf.keras.layers.Dense(encoding_dim, activation='relu')(input_data)\n",
    "    decoded = tf.keras.layers.Dense(input_dim, activation='sigmoid')(encoded)\n",
    "\n",
    "    autoencoder = tf.keras.models.Model(input_data, decoded)\n",
    "    autoencoder.compile(optimizer='adam', loss='binary_crossentropy')\n",
    "\n",
    "    autoencoder.fit(dataset, dataset, epochs=50, batch_size=256, shuffle=True, validation_split=0.2)\n",
    "\n",
    "    encoder = tf.keras.models.Model(input_data, encoded)\n",
    "    reduced_dataset = encoder.predict(dataset)\n",
    "    return reduced_dataset\n"
   ]
  },
  {
   "cell_type": "code",
   "execution_count": null,
   "id": "982a2d5f",
   "metadata": {},
   "outputs": [],
   "source": [
    "def apply_autoencoder(n_components):\n",
    "    autoencoder_result, runtime = measure_runtime(lambda: autoencoder_dimension_reduction(features_scaled, n_components))\n",
    "    reduced_df = pd.DataFrame(autoencoder_result, columns=[f'AE_{i+1}' for i in range(n_components)])\n",
    "    reduced_df['logerror'] = target\n",
    "    mem_usage = reduced_df.memory_usage(deep=True).sum()\n",
    "    return reduced_df, runtime, mem_usage"
   ]
  },
  {
   "cell_type": "code",
   "execution_count": null,
   "id": "a03cf1ff",
   "metadata": {
    "scrolled": true
   },
   "outputs": [],
   "source": [
    "# Autoencoder for 10%, 50%, 75%\n",
    "for components, label in zip([components_10, components_50, components_75], ['10%', '50%', '75%']):\n",
    "    reduced_df, runtime, mem_usage = apply_autoencoder(components)\n",
    "    autoencoder_results[label] = (reduced_df, runtime, mem_usage)"
   ]
  },
  {
   "cell_type": "code",
   "execution_count": null,
   "id": "f29a5810",
   "metadata": {},
   "outputs": [],
   "source": [
    "# Output Results\n",
    "for label, (df, runtime, mem_usage) in autoencoder_results.items():\n",
    "    print(f\"Results for {label}:\")\n",
    "    print(f\"Runtime: {runtime:.4f} seconds\")\n",
    "    print(f\"Data Size: {mem_usage} bytes\")\n",
    "    print(f\"DataFrame head:\\n{df.head()}\\n\")"
   ]
  },
  {
   "cell_type": "markdown",
   "id": "735c8bed-65ce-4028-9568-fa3cf23c9574",
   "metadata": {},
   "source": [
    "### Kernel PCA"
   ]
  },
  {
   "cell_type": "code",
   "execution_count": 42,
   "id": "736d586d-cc53-4a67-a2ba-5b60e143cfca",
   "metadata": {
    "execution": {
     "iopub.execute_input": "2024-04-25T02:35:24.070973Z",
     "iopub.status.busy": "2024-04-25T02:35:24.069887Z",
     "iopub.status.idle": "2024-04-25T02:35:24.083315Z",
     "shell.execute_reply": "2024-04-25T02:35:24.081671Z",
     "shell.execute_reply.started": "2024-04-25T02:35:24.070918Z"
    }
   },
   "outputs": [],
   "source": [
    "from sklearn.decomposition import IncrementalPCA\n",
    "from sklearn.decomposition import KernelPCA\n",
    "\n",
    "class IncrementalKernelPCA:\n",
    "    def __init__(self, kpca, n_components=None):\n",
    "        self.kpca = kpca\n",
    "        self.n_components = n_components\n",
    "        self.ipca = IncrementalPCA(n_components=self.n_components)\n",
    "\n",
    "    def fit(self, X):\n",
    "        # First fit to initialize the rbfsampler with the first batch of data\n",
    "        transformed = self.kpca.fit_transform(X)\n",
    "        self.ipca.fit(transformed)\n",
    "\n",
    "    def partial_fit(self, X):\n",
    "        # Transform the data with the already fitted rbfsampler and partially fit the PCA\n",
    "        transformed = self.kpca.transform(X)\n",
    "        self.ipca.partial_fit(transformed)\n",
    "    \n",
    "    def fit_in_batches(self, X, n_batches=50):\n",
    "        # Split data into batches\n",
    "        batches = np.array_split(X, n_batches)\n",
    "\n",
    "        # Fit the first batch to setup\n",
    "        self.fit(batches[0])\n",
    "\n",
    "        # Fit the rest incrementally\n",
    "        for batch in batches[1:]:\n",
    "            self.partial_fit(batch)\n",
    "\n",
    "    def transform(self, X):\n",
    "        # Transform the data with the already fitted rbfsampler and apply PCA transformation\n",
    "        transformed = self.kpca.transform(X)\n",
    "        return self.ipca.transform(transformed)"
   ]
  },
  {
   "cell_type": "code",
   "execution_count": 43,
   "id": "9afdf540-e8b3-43c8-9e0a-8146c380f92e",
   "metadata": {
    "execution": {
     "iopub.execute_input": "2024-04-25T02:35:28.087098Z",
     "iopub.status.busy": "2024-04-25T02:35:28.086521Z",
     "iopub.status.idle": "2024-04-25T02:35:28.099202Z",
     "shell.execute_reply": "2024-04-25T02:35:28.097584Z",
     "shell.execute_reply.started": "2024-04-25T02:35:28.087057Z"
    }
   },
   "outputs": [],
   "source": [
    "def apply_ikpca(kpca, n_components):\n",
    "    # Initialize the Incremental Kernel PCA\n",
    "    ikpca = IncrementalKernelPCA(kpca, n_components=n_components)\n",
    "\n",
    "    # Calculate number of batches\n",
    "    n_points = features_scaled.shape[0]\n",
    "    batch_size = 1000\n",
    "    n_batches = n_points / batch_size\n",
    "\n",
    "    # Function to fit and transform data using the Incremental Kernel PCA\n",
    "    def fit_incrementally_and_transform():\n",
    "        ikpca.fit_in_batches(features_scaled, n_batches=n_batches)\n",
    "        return ikpca.transform(features_scaled)\n",
    "    \n",
    "    # Time the function\n",
    "    ikpca_result, runtime = measure_runtime(lambda: fit_incrementally_and_transform())\n",
    "    \n",
    "    # Calculate final values and return\n",
    "    reduced_df = pd.DataFrame(ikpca_result, columns=[f'PC{i+1}' for i in range(n_components)])\n",
    "    reduced_df['logerror'] = target\n",
    "    mem_usage = dataframe_memory(reduced_df)\n",
    "    return reduced_df, runtime, mem_usage"
   ]
  },
  {
   "cell_type": "code",
   "execution_count": 44,
   "id": "6321660d-3eef-40ca-90d8-489b28545ede",
   "metadata": {
    "execution": {
     "iopub.execute_input": "2024-04-25T02:35:30.683160Z",
     "iopub.status.busy": "2024-04-25T02:35:30.682571Z",
     "iopub.status.idle": "2024-04-25T02:35:30.691664Z",
     "shell.execute_reply": "2024-04-25T02:35:30.689532Z",
     "shell.execute_reply.started": "2024-04-25T02:35:30.683112Z"
    }
   },
   "outputs": [],
   "source": [
    "# CHANGE THE TYPE OF KERNEL HERE:\n",
    "kernel_pca = KernelPCA(gamma=1, kernel='poly', degree=2)"
   ]
  },
  {
   "cell_type": "code",
   "execution_count": 45,
   "id": "26e7f57a-bf1b-4e01-ab1d-9f05d6806b3d",
   "metadata": {
    "execution": {
     "iopub.execute_input": "2024-04-25T02:35:31.589697Z",
     "iopub.status.busy": "2024-04-25T02:35:31.588306Z",
     "iopub.status.idle": "2024-04-25T02:37:23.902045Z",
     "shell.execute_reply": "2024-04-25T02:37:23.900498Z",
     "shell.execute_reply.started": "2024-04-25T02:35:31.589638Z"
    }
   },
   "outputs": [],
   "source": [
    "# Initialize results\n",
    "ikpca_results = {}\n",
    "\n",
    "# Incremental Kernel PCA for 10%, 50%, 75%\n",
    "for components, label in zip([components_10, components_50, components_75], ['10%', '50%', '75%']):\n",
    "    reduced_df, runtime, mem_usage = apply_ikpca(kernel_pca, components)\n",
    "    ikpca_results[label] = (reduced_df, runtime, mem_usage)"
   ]
  },
  {
   "cell_type": "code",
   "execution_count": 46,
   "id": "ba5a56c0-94dc-4598-ab8f-25bc4309b6eb",
   "metadata": {
    "execution": {
     "iopub.execute_input": "2024-04-25T02:37:23.905307Z",
     "iopub.status.busy": "2024-04-25T02:37:23.904691Z",
     "iopub.status.idle": "2024-04-25T02:37:23.979125Z",
     "shell.execute_reply": "2024-04-25T02:37:23.977745Z",
     "shell.execute_reply.started": "2024-04-25T02:37:23.905252Z"
    }
   },
   "outputs": [
    {
     "name": "stdout",
     "output_type": "stream",
     "text": [
      "Results for 10%:\n",
      "Runtime: 38.6671 seconds\n",
      "Data Size: 2482656 bytes\n",
      "DataFrame head:\n",
      "        PC1       PC2       PC3  logerror\n",
      "0  1.079212 -0.429195 -0.917538  0.025595\n",
      "1  1.082180 -4.019133 -0.978306  0.055619\n",
      "2  1.079663 -4.402646 -0.949426  0.005383\n",
      "3  1.069355 -4.263007 -0.962398 -0.103410\n",
      "4  1.066845 -3.857770 -0.966024  0.006940\n",
      "\n",
      "Results for 50%:\n",
      "Runtime: 36.4435 seconds\n",
      "Data Size: 12412768 bytes\n",
      "DataFrame head:\n",
      "        PC1       PC2       PC3       PC4       PC5       PC6       PC7  \\\n",
      "0  1.080704 -0.382906 -0.919684  0.590542 -1.015309 -3.718853 -1.186895   \n",
      "1  1.081736 -4.038409 -0.979335 -0.201582 -1.085069  1.462280 -1.108841   \n",
      "2  1.079214 -4.438882 -0.949426  1.076632 -0.946497  3.192375 -1.001290   \n",
      "3  1.068557 -4.301123 -0.962184  1.107070 -1.015683  3.410574 -0.862145   \n",
      "4  1.065921 -3.895982 -0.965569  0.793181  4.148510  3.232659 -0.207737   \n",
      "\n",
      "        PC8        PC9       PC10      PC11      PC12       PC13       PC14  \\\n",
      "0 -5.913266  -0.995336   1.027823 -0.123948 -3.708082   1.478256  -5.568873   \n",
      "1 -5.045333 -12.866733 -12.636840  3.297675  5.942280 -18.580999  12.001162   \n",
      "2  3.472284   0.454225   1.477848 -0.330777  1.270230   1.032366  -1.907832   \n",
      "3  3.857033   1.130154   3.757900  0.063567  4.574159   2.472996  -7.469742   \n",
      "4  4.526948  -0.141529   1.250306 -1.273529  1.070364   0.827633  -2.983181   \n",
      "\n",
      "        PC15      PC16       PC17       PC18      PC19  logerror  \n",
      "0  -6.838002  1.603617  -3.402604  -4.474329  0.432379  0.025595  \n",
      "1  16.812153 -3.834438  13.715887   9.114515 -0.597411  0.055619  \n",
      "2   1.009328 -0.300411   0.742342  -1.366170 -1.864510  0.005383  \n",
      "3 -12.470002  3.557337 -11.194040  54.988940 -4.904817 -0.103410  \n",
      "4  -0.905309  0.075759  -0.652409  -2.125774 -0.855315  0.006940  \n",
      "\n",
      "Results for 75%:\n",
      "Runtime: 37.1690 seconds\n",
      "Data Size: 17998456 bytes\n",
      "DataFrame head:\n",
      "        PC1       PC2       PC3       PC4       PC5       PC6       PC7  \\\n",
      "0  1.080622 -0.383110 -0.919681  0.590538 -1.012435 -3.706767 -1.185268   \n",
      "1  1.081639 -4.038277 -0.979236 -0.202724 -1.086061  1.468766 -1.109021   \n",
      "2  1.079222 -4.438829 -0.949444  1.077294 -0.946160  3.192799 -1.001911   \n",
      "3  1.068567 -4.301070 -0.962229  1.108162 -1.016538  3.414053 -0.862043   \n",
      "4  1.065929 -3.895882 -0.965587  0.793906  4.147263  3.232785 -0.207795   \n",
      "\n",
      "        PC8        PC9       PC10  ...       PC20       PC21      PC22  \\\n",
      "0 -5.824009  -0.541656   0.705554  ...  -1.666128  -7.149899 -0.859686   \n",
      "1 -5.099631 -12.387950 -12.571902  ... -12.179293 -27.677775  4.681414   \n",
      "2  3.479862   0.452594   1.508634  ...  -1.417531   0.927922 -0.079932   \n",
      "3  3.914426   1.171850   3.772953  ...   3.788573  -3.991857 -0.121326   \n",
      "4  4.534846  -0.153334   1.054854  ...  -1.069933  -0.169940 -0.142004   \n",
      "\n",
      "       PC23      PC24      PC25      PC26      PC27      PC28  logerror  \n",
      "0  2.131004  0.667299 -3.643723 -0.217799 -0.161273 -3.650730  0.025595  \n",
      "1  2.845051  0.956132 -4.638021  4.132846 -9.636727 -4.621168  0.055619  \n",
      "2 -1.038294 -1.282719 -0.341027 -0.973102  1.100633 -2.994424  0.005383  \n",
      "3 -0.945868 -6.278370  3.106409 -3.475649  3.952043 -4.893890 -0.103410  \n",
      "4 -0.126008 -1.377047  1.412736  0.161699  2.769811 -1.916807  0.006940  \n",
      "\n",
      "[5 rows x 29 columns]\n",
      "\n"
     ]
    }
   ],
   "source": [
    "# Output Results\n",
    "for label, (df, runtime, mem_usage) in ikpca_results.items():\n",
    "    print(f\"Results for {label}:\")\n",
    "    print(f\"Runtime: {runtime:.4f} seconds\")\n",
    "    print(f\"Data Size: {mem_usage} bytes\")\n",
    "    print(f\"DataFrame head:\\n{df.head()}\\n\")"
   ]
  },
  {
   "cell_type": "code",
   "execution_count": 30,
   "id": "eee6a252-ce09-43c1-9c74-30c73364f8e9",
   "metadata": {
    "collapsed": true,
    "execution": {
     "iopub.execute_input": "2024-04-25T02:26:36.080910Z",
     "iopub.status.busy": "2024-04-25T02:26:36.079269Z",
     "iopub.status.idle": "2024-04-25T02:27:26.669904Z",
     "shell.execute_reply": "2024-04-25T02:27:26.668075Z",
     "shell.execute_reply.started": "2024-04-25T02:26:36.080849Z"
    },
    "jupyter": {
     "outputs_hidden": true,
     "source_hidden": true
    }
   },
   "outputs": [
    {
     "data": {
      "image/png": "[encoded data removed]",
      "text/plain": [
       "<Figure size 640x480 with 1 Axes>"
      ]
     },
     "metadata": {},
     "output_type": "display_data"
    }
   ],
   "source": [
    "# This was just for learning\n",
    "\n",
    "import numpy as np\n",
    "from sklearn.decomposition import IncrementalPCA\n",
    "from sklearn.kernel_approximation import RBFSampler\n",
    "\n",
    "class IncrementalRBFPca:\n",
    "    def __init__(self, n_components=2, gamma=0.1, n_samples=100):\n",
    "        self.n_components = n_components\n",
    "        self.gamma = gamma\n",
    "        self.n_samples = n_samples\n",
    "        self.rbfsampler = KernelPCA(gamma=self.gamma, n_components=self.n_samples, kernel='rbf')\n",
    "        self.pca = IncrementalPCA(n_components=self.n_components)\n",
    "\n",
    "    def fit(self, X):\n",
    "        # First fit to initialize the rbfsampler with the first batch of data\n",
    "        transformed = self.rbfsampler.fit_transform(X)\n",
    "        self.pca.fit(transformed)\n",
    "\n",
    "    def partial_fit(self, X):\n",
    "        # Transform the data with the already fitted rbfsampler and partially fit the PCA\n",
    "        transformed = self.rbfsampler.transform(X)\n",
    "        self.pca.partial_fit(transformed)\n",
    "\n",
    "    def transform(self, X):\n",
    "        # Transform the data with the already fitted rbfsampler and apply PCA transformation\n",
    "        transformed = self.rbfsampler.transform(X)\n",
    "        return self.pca.transform(transformed)\n",
    "\n",
    "# Example usage:\n",
    "if __name__ == \"__main__\":\n",
    "    from sklearn.datasets import make_circles\n",
    "\n",
    "    # Create a dataset\n",
    "    n_points = 80000\n",
    "    batch_size = 2000\n",
    "    n_batches = n_points / batch_size\n",
    "    X, _ = make_circles(n_samples=n_points, factor=.3, noise=.05)\n",
    "\n",
    "    # Initialize the Incremental RBF PCA\n",
    "    inc_rbf_pca = IncrementalRBFPca(n_components=None, gamma=5, n_samples=int(batch_size/3))\n",
    "\n",
    "    # Simulate incoming data in batches\n",
    "    batches = np.array_split(X, n_batches)  # Split data into 5 batches\n",
    "\n",
    "    # Fit the first batch to setup\n",
    "    inc_rbf_pca.fit(batches[0])\n",
    "\n",
    "    # Fit the rest incrementally\n",
    "    for batch in batches[1:]:\n",
    "        inc_rbf_pca.partial_fit(batch)\n",
    "\n",
    "    # Transform data using the incrementally learned PCA\n",
    "    X_transformed = inc_rbf_pca.transform(X)\n",
    "\n",
    "    # For visualization\n",
    "    import matplotlib.pyplot as plt\n",
    "    plt.scatter(X_transformed[:, 0], X_transformed[:, 1])\n",
    "    plt.title('Incremental RBF Kernel PCA Results')\n",
    "    plt.show()"
   ]
  }
 ],
 "metadata": {
  "kernelspec": {
   "display_name": "Python 3 (ipykernel)",
   "language": "python",
   "name": "python3"
  },
  "language_info": {
   "codemirror_mode": {
    "name": "ipython",
    "version": 3
   },
   "file_extension": ".py",
   "mimetype": "text/x-python",
   "name": "python",
   "nbconvert_exporter": "python",
   "pygments_lexer": "ipython3",
   "version": "3.9.16"
  }
 },
 "nbformat": 4,
 "nbformat_minor": 5
}
